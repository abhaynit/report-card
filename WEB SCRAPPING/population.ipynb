{
 "cells": [
  {
   "cell_type": "code",
   "execution_count": 65,
   "id": "6511d758",
   "metadata": {},
   "outputs": [],
   "source": [
    "import requests\n",
    "import bs4\n",
    "import shutil"
   ]
  },
  {
   "cell_type": "code",
   "execution_count": 66,
   "id": "d397292a",
   "metadata": {},
   "outputs": [],
   "source": [
    "url = \"https://www.worldometers.info/geography/alphabetical-list-of-countries/\"\n",
    "response = requests.get(url)\n",
    "\n",
    "htmlcontent = response.content\n",
    "soup = bs4.BeautifulSoup(htmlcontent,'html.parser')\n",
    "cou = []\n",
    "pop= []\n",
    "are = []\n",
    "density = []"
   ]
  },
  {
   "cell_type": "code",
   "execution_count": 68,
   "id": "dbc81bf7",
   "metadata": {
    "scrolled": true
   },
   "outputs": [
    {
     "data": {
      "text/plain": [
       "390"
      ]
     },
     "execution_count": 68,
     "metadata": {},
     "output_type": "execute_result"
    }
   ],
   "source": [
    "ab = soup.find_all('div',attrs={'class':'content-inner'})\n",
    "for i in ab:\n",
    "    kt = (i.find_all('td',attrs={'style':'font-weight: bold; font-size:15px'}))\n",
    "    for j in kt:\n",
    "        #print(j.text)\n",
    "        cou.append(j.text)\n",
    "\n",
    "for i in ab:\n",
    "    kp = i.find_all('a')\n",
    "    for k in kp:\n",
    "        #print(k.text)\n",
    "        if len(k.text)>1:\n",
    "            pop.append(int(k.text.replace(',','')))\n",
    "            \n",
    "for i in ab:            \n",
    "    ka = i.find_all('td',attrs ={'style':'text-align:right'})\n",
    "    for q in ka:\n",
    "        are.append(q.text)\n",
    "aker = []\n",
    "for j in range(195):\n",
    "    aker.append([cou[j],pop[j],are[j*2],are[2*j+1]])\n",
    "len(are)"
   ]
  },
  {
   "cell_type": "code",
   "execution_count": 93,
   "id": "68500219",
   "metadata": {
    "scrolled": true
   },
   "outputs": [
    {
     "data": {
      "text/plain": [
       "<BarContainer object of 5 artists>"
      ]
     },
     "execution_count": 93,
     "metadata": {},
     "output_type": "execute_result"
    },
    {
     "data": {
      "image/png": "[encoded data removed]",
      "text/plain": [
       "<Figure size 432x288 with 1 Axes>"
      ]
     },
     "metadata": {
      "needs_background": "light"
     },
     "output_type": "display_data"
    }
   ],
   "source": [
    "abc = cou[:5]\n",
    "bcd = pop[:5]\n",
    "den = [60,105,18,164,26]\n",
    "import numpy as np\n",
    "import matplotlib.pyplot as plt\n",
    "%matplotlib inline\n",
    "ypos = np.arange(len(abc))\n",
    "plt.bar(ypos,bcd,width = 0.8)\n"
   ]
  },
  {
   "cell_type": "code",
   "execution_count": 94,
   "id": "0c9eb9fa",
   "metadata": {},
   "outputs": [
    {
     "data": {
      "text/plain": [
       "<BarContainer object of 5 artists>"
      ]
     },
     "execution_count": 94,
     "metadata": {},
     "output_type": "execute_result"
    },
    {
     "data": {
      "image/png": "[encoded data removed]",
      "text/plain": [
       "<Figure size 432x288 with 1 Axes>"
      ]
     },
     "metadata": {
      "needs_background": "light"
     },
     "output_type": "display_data"
    }
   ],
   "source": [
    "plt.xticks(ypos,abc)\n",
    "plt.bar(ypos,bcd,width=0.8)"
   ]
  },
  {
   "cell_type": "code",
   "execution_count": 53,
   "id": "f7ae06f6",
   "metadata": {
    "scrolled": true
   },
   "outputs": [
    {
     "data": {
      "text/html": [
       "<div>\n",
       "<style scoped>\n",
       "    .dataframe tbody tr th:only-of-type {\n",
       "        vertical-align: middle;\n",
       "    }\n",
       "\n",
       "    .dataframe tbody tr th {\n",
       "        vertical-align: top;\n",
       "    }\n",
       "\n",
       "    .dataframe thead th {\n",
       "        text-align: right;\n",
       "    }\n",
       "</style>\n",
       "<table border=\"1\" class=\"dataframe\">\n",
       "  <thead>\n",
       "    <tr style=\"text-align: right;\">\n",
       "      <th></th>\n",
       "      <th>country_name</th>\n",
       "      <th>population</th>\n",
       "      <th>area</th>\n",
       "      <th>density</th>\n",
       "    </tr>\n",
       "  </thead>\n",
       "  <tbody>\n",
       "    <tr>\n",
       "      <th>0</th>\n",
       "      <td>Afghanistan</td>\n",
       "      <td>38,928,346</td>\n",
       "      <td>652,860</td>\n",
       "      <td>60</td>\n",
       "    </tr>\n",
       "    <tr>\n",
       "      <th>1</th>\n",
       "      <td>Albania</td>\n",
       "      <td>2,877,797</td>\n",
       "      <td>27,400</td>\n",
       "      <td>105</td>\n",
       "    </tr>\n",
       "    <tr>\n",
       "      <th>2</th>\n",
       "      <td>Algeria</td>\n",
       "      <td>43,851,044</td>\n",
       "      <td>2,381,740</td>\n",
       "      <td>18</td>\n",
       "    </tr>\n",
       "    <tr>\n",
       "      <th>3</th>\n",
       "      <td>Andorra</td>\n",
       "      <td>77,265</td>\n",
       "      <td>470</td>\n",
       "      <td>164</td>\n",
       "    </tr>\n",
       "    <tr>\n",
       "      <th>4</th>\n",
       "      <td>Angola</td>\n",
       "      <td>32,866,272</td>\n",
       "      <td>1,246,700</td>\n",
       "      <td>26</td>\n",
       "    </tr>\n",
       "    <tr>\n",
       "      <th>...</th>\n",
       "      <td>...</td>\n",
       "      <td>...</td>\n",
       "      <td>...</td>\n",
       "      <td>...</td>\n",
       "    </tr>\n",
       "    <tr>\n",
       "      <th>190</th>\n",
       "      <td>Venezuela</td>\n",
       "      <td>28,435,940</td>\n",
       "      <td>882,050</td>\n",
       "      <td>32</td>\n",
       "    </tr>\n",
       "    <tr>\n",
       "      <th>191</th>\n",
       "      <td>Vietnam</td>\n",
       "      <td>97,338,579</td>\n",
       "      <td>310,070</td>\n",
       "      <td>314</td>\n",
       "    </tr>\n",
       "    <tr>\n",
       "      <th>192</th>\n",
       "      <td>Yemen</td>\n",
       "      <td>29,825,964</td>\n",
       "      <td>527,970</td>\n",
       "      <td>56</td>\n",
       "    </tr>\n",
       "    <tr>\n",
       "      <th>193</th>\n",
       "      <td>Zambia</td>\n",
       "      <td>18,383,955</td>\n",
       "      <td>743,390</td>\n",
       "      <td>25</td>\n",
       "    </tr>\n",
       "    <tr>\n",
       "      <th>194</th>\n",
       "      <td>Zimbabwe</td>\n",
       "      <td>14,862,924</td>\n",
       "      <td>386,850</td>\n",
       "      <td>38</td>\n",
       "    </tr>\n",
       "  </tbody>\n",
       "</table>\n",
       "<p>195 rows × 4 columns</p>\n",
       "</div>"
      ],
      "text/plain": [
       "    country_name  population       area density\n",
       "0    Afghanistan  38,928,346    652,860      60\n",
       "1        Albania   2,877,797     27,400     105\n",
       "2        Algeria  43,851,044  2,381,740      18\n",
       "3        Andorra      77,265        470     164\n",
       "4         Angola  32,866,272  1,246,700      26\n",
       "..           ...         ...        ...     ...\n",
       "190    Venezuela  28,435,940    882,050      32\n",
       "191      Vietnam  97,338,579    310,070     314\n",
       "192        Yemen  29,825,964    527,970      56\n",
       "193       Zambia  18,383,955    743,390      25\n",
       "194     Zimbabwe  14,862,924    386,850      38\n",
       "\n",
       "[195 rows x 4 columns]"
      ]
     },
     "execution_count": 53,
     "metadata": {},
     "output_type": "execute_result"
    }
   ],
   "source": [
    "import pandas as pd\n",
    "df = pd.DataFrame(aker,columns=['country_name','population','area','density'])\n",
    "df"
   ]
  },
  {
   "cell_type": "code",
   "execution_count": 54,
   "id": "db903b4d",
   "metadata": {},
   "outputs": [],
   "source": [
    "df.to_csv('countries_detail.csv',index=False)"
   ]
  }
 ],
 "metadata": {
  "kernelspec": {
   "display_name": "Python 3",
   "language": "python",
   "name": "python3"
  },
  "language_info": {
   "codemirror_mode": {
    "name": "ipython",
    "version": 3
   },
   "file_extension": ".py",
   "mimetype": "text/x-python",
   "name": "python",
   "nbconvert_exporter": "python",
   "pygments_lexer": "ipython3",
   "version": "3.8.8"
  }
 },
 "nbformat": 4,
 "nbformat_minor": 5
}
